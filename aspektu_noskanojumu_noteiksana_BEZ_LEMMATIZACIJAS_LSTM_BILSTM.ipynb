{
  "nbformat": 4,
  "nbformat_minor": 0,
  "metadata": {
    "colab": {
      "provenance": []
    },
    "kernelspec": {
      "name": "python3",
      "display_name": "Python 3"
    },
    "language_info": {
      "name": "python"
    }
  },
  "cells": [
    {
      "cell_type": "markdown",
      "source": [
        "### DATU SAGATAVOŠANA"
      ],
      "metadata": {
        "id": "UctZW7d_iv1C"
      }
    },
    {
      "cell_type": "code",
      "execution_count": null,
      "metadata": {
        "id": "IpTe6Yk40LWj"
      },
      "outputs": [],
      "source": [
        "# BrambleXu. aspect term extraction. Tiešsaiste. GitHub: 11.09.2018. Pieejams: https://github.com/BrambleXu/aspect-term-extraction/tree/master. [skatīts 2025-03-23].\n",
        "\n",
        "# OpenAI. ChatGPT o3-mini-high. Uzvedne: es tev iedošu kodu, kas tiek izmantots aspektu izgūšanai, un tas ir jāpārveido tā, lai kods derētu noskaņojuma prognozēšanai\n",
        "# noteiktiem aspektiem teikumā. modelim nepieciešams prast tikai noteikt noskaņojumu jau dotajam aspektam, nevis noteikt gan aspektu, gan noskaņojumu. arī sākumā datu\n",
        "# priekšapstrādei jānotiek tā, lai priekšapstrādātie dati tiktu saglabāti CSV failā, kas vēlāk tiek izmantots modeļa apmācīšanai kā tas ir redzams zemāk dotajā\n",
        "# kodā https://chatgpt.com/ [izmantots 2025-03-27]\n",
        "def soup2dict_sentiment(sentence_nodes):\n",
        "    sentences = []\n",
        "    i = 0\n",
        "    for n in sentence_nodes:\n",
        "        i += 1\n",
        "        sentence = {}\n",
        "        aspect_term = []\n",
        "        polarity_list = []\n",
        "        sentence['id'] = i\n",
        "        sentence['text'] = n.find('text').string\n",
        "        if n.find('Opinions'):\n",
        "            for c in n.find('Opinions').contents:\n",
        "                if c.name == 'Opinion':\n",
        "                    aspect_term.append(c['target'])\n",
        "                    polarity_list.append(c['polarity'])\n",
        "        sentence['aspect'] = aspect_term\n",
        "        sentence['sentiment'] = polarity_list\n",
        "        sentences.append(sentence)\n",
        "\n",
        "    return sentences\n"
      ]
    },
    {
      "cell_type": "code",
      "source": [
        "def split2words(s_text):\n",
        "    s_text = re.sub('([.,!?()])', r' \\1 ', s_text) # match the punctuation characters and surround them by spaces,\n",
        "    s_text = re.sub('\\s{2,}', ' ', s_text)         # collapse multiple spaces to one space\n",
        "    words = s_text.lower().split()\n",
        "    return words"
      ],
      "metadata": {
        "id": "ks-l1ia40U3i"
      },
      "execution_count": null,
      "outputs": []
    },
    {
      "cell_type": "code",
      "source": [
        "# OpenAI. ChatGPT o3-mini-high. Uzvedne: pārveido šo kodu tā, lai tas dotu katram vārdam noskaņojuma marķierus atkarībā no dotā noskaņojuma:\n",
        "# positive: 2, neutral: 1, negative: 0 https://chatgpt.com/ [izmantots 2025-03-27]\n",
        "def tagging_sentiment(words, aspects, sentiment):\n",
        "\n",
        "    # OpenAI. GPT-4o. Uzvedne: sākumā notiek datu izgūšana no xml, notiek datu apstrāde, tad datu saglabāšana csv failos, kas tiek izmantots modeļa apmācīšanai un testēšanai. teikumā var būt viens vai vairāki explicit aspekti, implicit aspekti jeb NULL tiek ignorēti un atzīmēti ar O marķieri. kā papildināt kodu tā, lai tiktu arī dota informācija, kuri vārdi ir aspekti, kuriem ir jānosaka noskaņojums, un šī informācija tiks iedota modeļa apmācīšanā un modeļa pārbaudīšanā? https://chatgpt.com/ [izmantots 2025-04-15]\n",
        "    tags = ['O'] * len(words)\n",
        "    mask = [0] * len(words)\n",
        "\n",
        "    sent_map = {'positive': 'POS', 'neutral': 'NEU', 'negative': 'NEG'}\n",
        "    label = sent_map.get(sentiment, 'O')\n",
        "\n",
        "# OpenAI. ChatGPT o3-mini-high. Uzvedne: ir tāda nianse, ka, protams, aspekta var nebūt teikumā vispār, tad tas ir atzīmēts kā NULL, bet jebkurā gadījumā\n",
        "# tam ir noskaņojums, kurš ir jānosaka. tāpat arī, ja pirmais aspekts ir NULL, tas nenozīmē, ka teikumā vispār nav aspektu. teikums var būt garš, un pirmajā\n",
        "# teikuma daļā var nebūt aspekta, bet otrajā teikuma daļā var būt aspekts, tāpēc šis pieņēmums, ka,  ja pirmais aspekts ir NULL, tad pārējā teikumā nav aspektu.\n",
        "# tev attiecīgi jāizlabo tagging_sentiment un dict2df, lai atbilstu tam, ko es tev minēju augstāk https://chatgpt.com/ [izmantots 2025-03-27]\n",
        "\n",
        "    valid_aspects = [a for a in aspects if a != 'NULL']\n",
        "\n",
        "    if not valid_aspects:\n",
        "        return tags, mask\n",
        "\n",
        "    for aspect in valid_aspects:\n",
        "        aspect_lower = aspect.lower()\n",
        "        for i, w in enumerate(words):\n",
        "            if w in aspect_lower:\n",
        "                tags[i] = label\n",
        "                mask[i] = 1\n",
        "    return tags, mask\n"
      ],
      "metadata": {
        "id": "QGsXE2ls0bsW"
      },
      "execution_count": null,
      "outputs": []
    },
    {
      "cell_type": "code",
      "source": [
        "# OpenAI. ChatGPT o3-mini-high. Uzvedne: tagad atbilstoši zemāk dotajiem kodiem, jāizmaina dict2df funkciju https://chatgpt.com/ [izmantots 2025-03-27]\n",
        "# OpenAI. GPT-4o. Uzvedne: sākumā notiek datu izgūšana no xml, notiek datu apstrāde, tad datu saglabāšana csv failos, kas tiek izmantots modeļa apmācīšanai un testēšanai. teikumā var būt viens vai vairāki explicit aspekti, implicit aspekti jeb NULL tiek ignorēti un atzīmēti ar O marķieri. kā papildināt kodu tā, lai tiktu arī dota informācija, kuri vārdi ir aspekti, kuriem ir jānosaka noskaņojums, un šī informācija tiks iedota modeļa apmācīšanā un modeļa pārbaudīšanā? https://chatgpt.com/ [izmantots 2025-04-15]\n",
        "def dict2df(sentences):\n",
        "    data_frames = []\n",
        "\n",
        "    for s in sentences:\n",
        "        sentence = {}\n",
        "        sentence['Sentence #'] = s['id']\n",
        "\n",
        "        words = split2words(s['text'])\n",
        "        sentence['Word'] = words\n",
        "\n",
        "        if 'sentiment' in s and len(s['sentiment']) > 0:\n",
        "            sentiment_label = s['sentiment'][0]\n",
        "        else:\n",
        "            sentiment_label = 'neutral'\n",
        "\n",
        "# OpenAI. ChatGPT o3-mini-high. Uzvedne: ir tāda nianse, ka, protams, aspekta var nebūt teikumā vispār, tad tas ir atzīmēts kā NULL, bet jebkurā gadījumā\n",
        "# tam ir noskaņojums, kurš ir jānosaka. tāpat arī, ja pirmais aspekts ir NULL, tas nenozīmē, ka teikumā vispār nav aspektu. teikums var būt garš, un pirmajā\n",
        "# teikuma daļā var nebūt aspekta, bet otrajā teikuma daļā var būt aspekts, tāpēc šis pieņēmums, ka,  ja pirmais aspekts ir NULL, tad pārējā teikumā nav aspektu.\n",
        "# tev attiecīgi jāizlabo tagging_sentiment un dict2df, lai atbilstu tam, ko es tev minēju augstāk https://chatgpt.com/ [izmantots 2025-03-27]\n",
        "        aspect_terms = s['aspect'] if 'aspect' in s else []\n",
        "        aspect_terms = [a.lower() for a in aspect_terms]\n",
        "        tags, mask = tagging_sentiment(words, aspect_terms, sentiment_label)\n",
        "\n",
        "        sentence['Tag'] = tags\n",
        "        sentence['AspectMask'] = mask\n",
        "\n",
        "        sentence_df = pd.DataFrame(sentence)\n",
        "        data_frames.append(sentence_df)\n",
        "\n",
        "    data = pd.concat(data_frames, ignore_index=True)\n",
        "    return data\n"
      ],
      "metadata": {
        "id": "sFW2jxIT04DB"
      },
      "execution_count": null,
      "outputs": []
    },
    {
      "cell_type": "code",
      "source": [
        "def read_data(file_path):\n",
        "    # 1 raw data to soup\n",
        "    soup = None\n",
        "    with open(file_path, \"r\", encoding=\"utf-8\") as f:\n",
        "        soup = BeautifulSoup(f.read().strip(), \"lxml-xml\")\n",
        "    if soup is None:\n",
        "        raise Exception(\"Can't read xml file\")\n",
        "    sentence_nodes = soup.find_all(\"sentence\")\n",
        "\n",
        "    # 2  convert soup object to a list of dictionaries\n",
        "    sentences = soup2dict_sentiment(sentence_nodes)\n",
        "\n",
        "    # 3 list to dataframe\n",
        "    data = dict2df(sentences)\n",
        "\n",
        "    return data"
      ],
      "metadata": {
        "id": "tGS59bKa07qb"
      },
      "execution_count": null,
      "outputs": []
    },
    {
      "cell_type": "code",
      "source": [
        "from google.colab import files\n",
        "import re\n",
        "import numpy as np\n",
        "import pandas as pd\n",
        "from pathlib import Path\n",
        "from bs4 import BeautifulSoup\n",
        "# OpenAI. ChatGPT o3-mini-high. Uzvedne: izmaini šo koda gabalu tā, lai tas darbotos google colab vidē https://chatgpt.com/ [izmantots 2025-03-23]\n",
        "uploaded = files.upload()\n",
        "file_name = list(uploaded.keys())[0]\n",
        "data = read_data(file_name)\n",
        "data.tail()"
      ],
      "metadata": {
        "id": "IrrScexr082B",
        "colab": {
          "base_uri": "https://localhost:8080/",
          "height": 262
        },
        "outputId": "f39b3eaf-63ee-42f8-fb57-79e4ac19eb78"
      },
      "execution_count": null,
      "outputs": [
        {
          "output_type": "display_data",
          "data": {
            "text/plain": [
              "<IPython.core.display.HTML object>"
            ],
            "text/html": [
              "\n",
              "     <input type=\"file\" id=\"files-f0700c2e-2c12-451a-8b20-468efe8e7276\" name=\"files[]\" multiple disabled\n",
              "        style=\"border:none\" />\n",
              "     <output id=\"result-f0700c2e-2c12-451a-8b20-468efe8e7276\">\n",
              "      Upload widget is only available when the cell has been executed in the\n",
              "      current browser session. Please rerun this cell to enable.\n",
              "      </output>\n",
              "      <script>// Copyright 2017 Google LLC\n",
              "//\n",
              "// Licensed under the Apache License, Version 2.0 (the \"License\");\n",
              "// you may not use this file except in compliance with the License.\n",
              "// You may obtain a copy of the License at\n",
              "//\n",
              "//      http://www.apache.org/licenses/LICENSE-2.0\n",
              "//\n",
              "// Unless required by applicable law or agreed to in writing, software\n",
              "// distributed under the License is distributed on an \"AS IS\" BASIS,\n",
              "// WITHOUT WARRANTIES OR CONDITIONS OF ANY KIND, either express or implied.\n",
              "// See the License for the specific language governing permissions and\n",
              "// limitations under the License.\n",
              "\n",
              "/**\n",
              " * @fileoverview Helpers for google.colab Python module.\n",
              " */\n",
              "(function(scope) {\n",
              "function span(text, styleAttributes = {}) {\n",
              "  const element = document.createElement('span');\n",
              "  element.textContent = text;\n",
              "  for (const key of Object.keys(styleAttributes)) {\n",
              "    element.style[key] = styleAttributes[key];\n",
              "  }\n",
              "  return element;\n",
              "}\n",
              "\n",
              "// Max number of bytes which will be uploaded at a time.\n",
              "const MAX_PAYLOAD_SIZE = 100 * 1024;\n",
              "\n",
              "function _uploadFiles(inputId, outputId) {\n",
              "  const steps = uploadFilesStep(inputId, outputId);\n",
              "  const outputElement = document.getElementById(outputId);\n",
              "  // Cache steps on the outputElement to make it available for the next call\n",
              "  // to uploadFilesContinue from Python.\n",
              "  outputElement.steps = steps;\n",
              "\n",
              "  return _uploadFilesContinue(outputId);\n",
              "}\n",
              "\n",
              "// This is roughly an async generator (not supported in the browser yet),\n",
              "// where there are multiple asynchronous steps and the Python side is going\n",
              "// to poll for completion of each step.\n",
              "// This uses a Promise to block the python side on completion of each step,\n",
              "// then passes the result of the previous step as the input to the next step.\n",
              "function _uploadFilesContinue(outputId) {\n",
              "  const outputElement = document.getElementById(outputId);\n",
              "  const steps = outputElement.steps;\n",
              "\n",
              "  const next = steps.next(outputElement.lastPromiseValue);\n",
              "  return Promise.resolve(next.value.promise).then((value) => {\n",
              "    // Cache the last promise value to make it available to the next\n",
              "    // step of the generator.\n",
              "    outputElement.lastPromiseValue = value;\n",
              "    return next.value.response;\n",
              "  });\n",
              "}\n",
              "\n",
              "/**\n",
              " * Generator function which is called between each async step of the upload\n",
              " * process.\n",
              " * @param {string} inputId Element ID of the input file picker element.\n",
              " * @param {string} outputId Element ID of the output display.\n",
              " * @return {!Iterable<!Object>} Iterable of next steps.\n",
              " */\n",
              "function* uploadFilesStep(inputId, outputId) {\n",
              "  const inputElement = document.getElementById(inputId);\n",
              "  inputElement.disabled = false;\n",
              "\n",
              "  const outputElement = document.getElementById(outputId);\n",
              "  outputElement.innerHTML = '';\n",
              "\n",
              "  const pickedPromise = new Promise((resolve) => {\n",
              "    inputElement.addEventListener('change', (e) => {\n",
              "      resolve(e.target.files);\n",
              "    });\n",
              "  });\n",
              "\n",
              "  const cancel = document.createElement('button');\n",
              "  inputElement.parentElement.appendChild(cancel);\n",
              "  cancel.textContent = 'Cancel upload';\n",
              "  const cancelPromise = new Promise((resolve) => {\n",
              "    cancel.onclick = () => {\n",
              "      resolve(null);\n",
              "    };\n",
              "  });\n",
              "\n",
              "  // Wait for the user to pick the files.\n",
              "  const files = yield {\n",
              "    promise: Promise.race([pickedPromise, cancelPromise]),\n",
              "    response: {\n",
              "      action: 'starting',\n",
              "    }\n",
              "  };\n",
              "\n",
              "  cancel.remove();\n",
              "\n",
              "  // Disable the input element since further picks are not allowed.\n",
              "  inputElement.disabled = true;\n",
              "\n",
              "  if (!files) {\n",
              "    return {\n",
              "      response: {\n",
              "        action: 'complete',\n",
              "      }\n",
              "    };\n",
              "  }\n",
              "\n",
              "  for (const file of files) {\n",
              "    const li = document.createElement('li');\n",
              "    li.append(span(file.name, {fontWeight: 'bold'}));\n",
              "    li.append(span(\n",
              "        `(${file.type || 'n/a'}) - ${file.size} bytes, ` +\n",
              "        `last modified: ${\n",
              "            file.lastModifiedDate ? file.lastModifiedDate.toLocaleDateString() :\n",
              "                                    'n/a'} - `));\n",
              "    const percent = span('0% done');\n",
              "    li.appendChild(percent);\n",
              "\n",
              "    outputElement.appendChild(li);\n",
              "\n",
              "    const fileDataPromise = new Promise((resolve) => {\n",
              "      const reader = new FileReader();\n",
              "      reader.onload = (e) => {\n",
              "        resolve(e.target.result);\n",
              "      };\n",
              "      reader.readAsArrayBuffer(file);\n",
              "    });\n",
              "    // Wait for the data to be ready.\n",
              "    let fileData = yield {\n",
              "      promise: fileDataPromise,\n",
              "      response: {\n",
              "        action: 'continue',\n",
              "      }\n",
              "    };\n",
              "\n",
              "    // Use a chunked sending to avoid message size limits. See b/62115660.\n",
              "    let position = 0;\n",
              "    do {\n",
              "      const length = Math.min(fileData.byteLength - position, MAX_PAYLOAD_SIZE);\n",
              "      const chunk = new Uint8Array(fileData, position, length);\n",
              "      position += length;\n",
              "\n",
              "      const base64 = btoa(String.fromCharCode.apply(null, chunk));\n",
              "      yield {\n",
              "        response: {\n",
              "          action: 'append',\n",
              "          file: file.name,\n",
              "          data: base64,\n",
              "        },\n",
              "      };\n",
              "\n",
              "      let percentDone = fileData.byteLength === 0 ?\n",
              "          100 :\n",
              "          Math.round((position / fileData.byteLength) * 100);\n",
              "      percent.textContent = `${percentDone}% done`;\n",
              "\n",
              "    } while (position < fileData.byteLength);\n",
              "  }\n",
              "\n",
              "  // All done.\n",
              "  yield {\n",
              "    response: {\n",
              "      action: 'complete',\n",
              "    }\n",
              "  };\n",
              "}\n",
              "\n",
              "scope.google = scope.google || {};\n",
              "scope.google.colab = scope.google.colab || {};\n",
              "scope.google.colab._files = {\n",
              "  _uploadFiles,\n",
              "  _uploadFilesContinue,\n",
              "};\n",
              "})(self);\n",
              "</script> "
            ]
          },
          "metadata": {}
        },
        {
          "output_type": "stream",
          "name": "stdout",
          "text": [
            "Saving LVtestGOLD_1.xml to LVtestGOLD_1.xml\n"
          ]
        },
        {
          "output_type": "execute_result",
          "data": {
            "text/plain": [
              "      Sentence #       Word Tag  AspectMask\n",
              "7269         658   iekļauts   O           0\n",
              "7270         658   michelin   O           0\n",
              "7271         658  restorānu   O           0\n",
              "7272         658    ceļvedī   O           0\n",
              "7273         658          !   O           0"
            ],
            "text/html": [
              "\n",
              "  <div id=\"df-df565cb7-cc14-4ae8-af70-10208c510215\" class=\"colab-df-container\">\n",
              "    <div>\n",
              "<style scoped>\n",
              "    .dataframe tbody tr th:only-of-type {\n",
              "        vertical-align: middle;\n",
              "    }\n",
              "\n",
              "    .dataframe tbody tr th {\n",
              "        vertical-align: top;\n",
              "    }\n",
              "\n",
              "    .dataframe thead th {\n",
              "        text-align: right;\n",
              "    }\n",
              "</style>\n",
              "<table border=\"1\" class=\"dataframe\">\n",
              "  <thead>\n",
              "    <tr style=\"text-align: right;\">\n",
              "      <th></th>\n",
              "      <th>Sentence #</th>\n",
              "      <th>Word</th>\n",
              "      <th>Tag</th>\n",
              "      <th>AspectMask</th>\n",
              "    </tr>\n",
              "  </thead>\n",
              "  <tbody>\n",
              "    <tr>\n",
              "      <th>7269</th>\n",
              "      <td>658</td>\n",
              "      <td>iekļauts</td>\n",
              "      <td>O</td>\n",
              "      <td>0</td>\n",
              "    </tr>\n",
              "    <tr>\n",
              "      <th>7270</th>\n",
              "      <td>658</td>\n",
              "      <td>michelin</td>\n",
              "      <td>O</td>\n",
              "      <td>0</td>\n",
              "    </tr>\n",
              "    <tr>\n",
              "      <th>7271</th>\n",
              "      <td>658</td>\n",
              "      <td>restorānu</td>\n",
              "      <td>O</td>\n",
              "      <td>0</td>\n",
              "    </tr>\n",
              "    <tr>\n",
              "      <th>7272</th>\n",
              "      <td>658</td>\n",
              "      <td>ceļvedī</td>\n",
              "      <td>O</td>\n",
              "      <td>0</td>\n",
              "    </tr>\n",
              "    <tr>\n",
              "      <th>7273</th>\n",
              "      <td>658</td>\n",
              "      <td>!</td>\n",
              "      <td>O</td>\n",
              "      <td>0</td>\n",
              "    </tr>\n",
              "  </tbody>\n",
              "</table>\n",
              "</div>\n",
              "    <div class=\"colab-df-buttons\">\n",
              "\n",
              "  <div class=\"colab-df-container\">\n",
              "    <button class=\"colab-df-convert\" onclick=\"convertToInteractive('df-df565cb7-cc14-4ae8-af70-10208c510215')\"\n",
              "            title=\"Convert this dataframe to an interactive table.\"\n",
              "            style=\"display:none;\">\n",
              "\n",
              "  <svg xmlns=\"http://www.w3.org/2000/svg\" height=\"24px\" viewBox=\"0 -960 960 960\">\n",
              "    <path d=\"M120-120v-720h720v720H120Zm60-500h600v-160H180v160Zm220 220h160v-160H400v160Zm0 220h160v-160H400v160ZM180-400h160v-160H180v160Zm440 0h160v-160H620v160ZM180-180h160v-160H180v160Zm440 0h160v-160H620v160Z\"/>\n",
              "  </svg>\n",
              "    </button>\n",
              "\n",
              "  <style>\n",
              "    .colab-df-container {\n",
              "      display:flex;\n",
              "      gap: 12px;\n",
              "    }\n",
              "\n",
              "    .colab-df-convert {\n",
              "      background-color: #E8F0FE;\n",
              "      border: none;\n",
              "      border-radius: 50%;\n",
              "      cursor: pointer;\n",
              "      display: none;\n",
              "      fill: #1967D2;\n",
              "      height: 32px;\n",
              "      padding: 0 0 0 0;\n",
              "      width: 32px;\n",
              "    }\n",
              "\n",
              "    .colab-df-convert:hover {\n",
              "      background-color: #E2EBFA;\n",
              "      box-shadow: 0px 1px 2px rgba(60, 64, 67, 0.3), 0px 1px 3px 1px rgba(60, 64, 67, 0.15);\n",
              "      fill: #174EA6;\n",
              "    }\n",
              "\n",
              "    .colab-df-buttons div {\n",
              "      margin-bottom: 4px;\n",
              "    }\n",
              "\n",
              "    [theme=dark] .colab-df-convert {\n",
              "      background-color: #3B4455;\n",
              "      fill: #D2E3FC;\n",
              "    }\n",
              "\n",
              "    [theme=dark] .colab-df-convert:hover {\n",
              "      background-color: #434B5C;\n",
              "      box-shadow: 0px 1px 3px 1px rgba(0, 0, 0, 0.15);\n",
              "      filter: drop-shadow(0px 1px 2px rgba(0, 0, 0, 0.3));\n",
              "      fill: #FFFFFF;\n",
              "    }\n",
              "  </style>\n",
              "\n",
              "    <script>\n",
              "      const buttonEl =\n",
              "        document.querySelector('#df-df565cb7-cc14-4ae8-af70-10208c510215 button.colab-df-convert');\n",
              "      buttonEl.style.display =\n",
              "        google.colab.kernel.accessAllowed ? 'block' : 'none';\n",
              "\n",
              "      async function convertToInteractive(key) {\n",
              "        const element = document.querySelector('#df-df565cb7-cc14-4ae8-af70-10208c510215');\n",
              "        const dataTable =\n",
              "          await google.colab.kernel.invokeFunction('convertToInteractive',\n",
              "                                                    [key], {});\n",
              "        if (!dataTable) return;\n",
              "\n",
              "        const docLinkHtml = 'Like what you see? Visit the ' +\n",
              "          '<a target=\"_blank\" href=https://colab.research.google.com/notebooks/data_table.ipynb>data table notebook</a>'\n",
              "          + ' to learn more about interactive tables.';\n",
              "        element.innerHTML = '';\n",
              "        dataTable['output_type'] = 'display_data';\n",
              "        await google.colab.output.renderOutput(dataTable, element);\n",
              "        const docLink = document.createElement('div');\n",
              "        docLink.innerHTML = docLinkHtml;\n",
              "        element.appendChild(docLink);\n",
              "      }\n",
              "    </script>\n",
              "  </div>\n",
              "\n",
              "\n",
              "    <div id=\"df-18b78a82-7e87-41c6-88bb-841fe5086419\">\n",
              "      <button class=\"colab-df-quickchart\" onclick=\"quickchart('df-18b78a82-7e87-41c6-88bb-841fe5086419')\"\n",
              "                title=\"Suggest charts\"\n",
              "                style=\"display:none;\">\n",
              "\n",
              "<svg xmlns=\"http://www.w3.org/2000/svg\" height=\"24px\"viewBox=\"0 0 24 24\"\n",
              "     width=\"24px\">\n",
              "    <g>\n",
              "        <path d=\"M19 3H5c-1.1 0-2 .9-2 2v14c0 1.1.9 2 2 2h14c1.1 0 2-.9 2-2V5c0-1.1-.9-2-2-2zM9 17H7v-7h2v7zm4 0h-2V7h2v10zm4 0h-2v-4h2v4z\"/>\n",
              "    </g>\n",
              "</svg>\n",
              "      </button>\n",
              "\n",
              "<style>\n",
              "  .colab-df-quickchart {\n",
              "      --bg-color: #E8F0FE;\n",
              "      --fill-color: #1967D2;\n",
              "      --hover-bg-color: #E2EBFA;\n",
              "      --hover-fill-color: #174EA6;\n",
              "      --disabled-fill-color: #AAA;\n",
              "      --disabled-bg-color: #DDD;\n",
              "  }\n",
              "\n",
              "  [theme=dark] .colab-df-quickchart {\n",
              "      --bg-color: #3B4455;\n",
              "      --fill-color: #D2E3FC;\n",
              "      --hover-bg-color: #434B5C;\n",
              "      --hover-fill-color: #FFFFFF;\n",
              "      --disabled-bg-color: #3B4455;\n",
              "      --disabled-fill-color: #666;\n",
              "  }\n",
              "\n",
              "  .colab-df-quickchart {\n",
              "    background-color: var(--bg-color);\n",
              "    border: none;\n",
              "    border-radius: 50%;\n",
              "    cursor: pointer;\n",
              "    display: none;\n",
              "    fill: var(--fill-color);\n",
              "    height: 32px;\n",
              "    padding: 0;\n",
              "    width: 32px;\n",
              "  }\n",
              "\n",
              "  .colab-df-quickchart:hover {\n",
              "    background-color: var(--hover-bg-color);\n",
              "    box-shadow: 0 1px 2px rgba(60, 64, 67, 0.3), 0 1px 3px 1px rgba(60, 64, 67, 0.15);\n",
              "    fill: var(--button-hover-fill-color);\n",
              "  }\n",
              "\n",
              "  .colab-df-quickchart-complete:disabled,\n",
              "  .colab-df-quickchart-complete:disabled:hover {\n",
              "    background-color: var(--disabled-bg-color);\n",
              "    fill: var(--disabled-fill-color);\n",
              "    box-shadow: none;\n",
              "  }\n",
              "\n",
              "  .colab-df-spinner {\n",
              "    border: 2px solid var(--fill-color);\n",
              "    border-color: transparent;\n",
              "    border-bottom-color: var(--fill-color);\n",
              "    animation:\n",
              "      spin 1s steps(1) infinite;\n",
              "  }\n",
              "\n",
              "  @keyframes spin {\n",
              "    0% {\n",
              "      border-color: transparent;\n",
              "      border-bottom-color: var(--fill-color);\n",
              "      border-left-color: var(--fill-color);\n",
              "    }\n",
              "    20% {\n",
              "      border-color: transparent;\n",
              "      border-left-color: var(--fill-color);\n",
              "      border-top-color: var(--fill-color);\n",
              "    }\n",
              "    30% {\n",
              "      border-color: transparent;\n",
              "      border-left-color: var(--fill-color);\n",
              "      border-top-color: var(--fill-color);\n",
              "      border-right-color: var(--fill-color);\n",
              "    }\n",
              "    40% {\n",
              "      border-color: transparent;\n",
              "      border-right-color: var(--fill-color);\n",
              "      border-top-color: var(--fill-color);\n",
              "    }\n",
              "    60% {\n",
              "      border-color: transparent;\n",
              "      border-right-color: var(--fill-color);\n",
              "    }\n",
              "    80% {\n",
              "      border-color: transparent;\n",
              "      border-right-color: var(--fill-color);\n",
              "      border-bottom-color: var(--fill-color);\n",
              "    }\n",
              "    90% {\n",
              "      border-color: transparent;\n",
              "      border-bottom-color: var(--fill-color);\n",
              "    }\n",
              "  }\n",
              "</style>\n",
              "\n",
              "      <script>\n",
              "        async function quickchart(key) {\n",
              "          const quickchartButtonEl =\n",
              "            document.querySelector('#' + key + ' button');\n",
              "          quickchartButtonEl.disabled = true;  // To prevent multiple clicks.\n",
              "          quickchartButtonEl.classList.add('colab-df-spinner');\n",
              "          try {\n",
              "            const charts = await google.colab.kernel.invokeFunction(\n",
              "                'suggestCharts', [key], {});\n",
              "          } catch (error) {\n",
              "            console.error('Error during call to suggestCharts:', error);\n",
              "          }\n",
              "          quickchartButtonEl.classList.remove('colab-df-spinner');\n",
              "          quickchartButtonEl.classList.add('colab-df-quickchart-complete');\n",
              "        }\n",
              "        (() => {\n",
              "          let quickchartButtonEl =\n",
              "            document.querySelector('#df-18b78a82-7e87-41c6-88bb-841fe5086419 button');\n",
              "          quickchartButtonEl.style.display =\n",
              "            google.colab.kernel.accessAllowed ? 'block' : 'none';\n",
              "        })();\n",
              "      </script>\n",
              "    </div>\n",
              "\n",
              "    </div>\n",
              "  </div>\n"
            ],
            "application/vnd.google.colaboratory.intrinsic+json": {
              "type": "dataframe",
              "summary": "{\n  \"name\": \"data\",\n  \"rows\": 5,\n  \"fields\": [\n    {\n      \"column\": \"Sentence #\",\n      \"properties\": {\n        \"dtype\": \"number\",\n        \"std\": 0,\n        \"min\": 658,\n        \"max\": 658,\n        \"num_unique_values\": 1,\n        \"samples\": [\n          658\n        ],\n        \"semantic_type\": \"\",\n        \"description\": \"\"\n      }\n    },\n    {\n      \"column\": \"Word\",\n      \"properties\": {\n        \"dtype\": \"string\",\n        \"num_unique_values\": 5,\n        \"samples\": [\n          \"michelin\"\n        ],\n        \"semantic_type\": \"\",\n        \"description\": \"\"\n      }\n    },\n    {\n      \"column\": \"Tag\",\n      \"properties\": {\n        \"dtype\": \"category\",\n        \"num_unique_values\": 1,\n        \"samples\": [\n          \"O\"\n        ],\n        \"semantic_type\": \"\",\n        \"description\": \"\"\n      }\n    },\n    {\n      \"column\": \"AspectMask\",\n      \"properties\": {\n        \"dtype\": \"number\",\n        \"std\": 0,\n        \"min\": 0,\n        \"max\": 0,\n        \"num_unique_values\": 1,\n        \"samples\": [\n          0\n        ],\n        \"semantic_type\": \"\",\n        \"description\": \"\"\n      }\n    }\n  ]\n}"
            }
          },
          "metadata": {},
          "execution_count": 22
        }
      ]
    },
    {
      "cell_type": "code",
      "source": [
        "save_file = Path('test1.csv')\n",
        "data.to_csv(save_file, index=False)"
      ],
      "metadata": {
        "id": "MSDsmKOu0-_2"
      },
      "execution_count": null,
      "outputs": []
    },
    {
      "cell_type": "markdown",
      "source": [
        "### LSTM UN BILSTM APMĀCĪŠANA"
      ],
      "metadata": {
        "id": "CqXVzYan38CB"
      }
    },
    {
      "cell_type": "code",
      "source": [
        "# BrambleXu. aspect term extraction. Tiešsaiste. GitHub: 11.09.2018. Pieejams: https://github.com/BrambleXu/aspect-term-extraction/tree/master. [skatīts 2025-03-23].\n",
        "import pandas as pd\n",
        "import numpy as np\n",
        "from tensorflow.keras.preprocessing.sequence import pad_sequences\n",
        "from tensorflow.keras.utils import to_categorical\n",
        "from sklearn.model_selection import train_test_split\n",
        "import tensorflow as tf\n",
        "from tensorflow.keras import Model\n",
        "from tensorflow.keras.layers import Input, LSTM, Embedding, Dense, TimeDistributed, Dropout, Bidirectional\n",
        "from pathlib import Path\n",
        "from tensorflow.keras.metrics import Accuracy\n",
        "from sklearn.metrics import accuracy_score\n",
        "\n",
        "data_train = pd.read_csv('train.csv')\n",
        "data_test = pd.read_csv('test1.csv')"
      ],
      "metadata": {
        "id": "O_9BLf9S4Abw"
      },
      "execution_count": null,
      "outputs": []
    },
    {
      "cell_type": "code",
      "source": [
        "data = data_train\n",
        "# Save all words as a list\n",
        "words = list(set(data['Word'].values))\n",
        "n_words = len(words)\n",
        "\n",
        "tags = list(set(data[\"Tag\"].values))\n",
        "n_tags = len(tags)\n",
        "\n",
        "max_len = 75\n",
        "word2idx = {w: i + 1 for i, w in enumerate(words)}\n",
        "n_words = len(word2idx)\n",
        "# word2idx[''] = len(word2idx) + 1\n",
        "tag2idx = {t: i + 1 for i, t in enumerate(tags)}\n",
        "tag2idx['<pad>'] = 0\n",
        "n_tags = len(tag2idx) # Due to , here total tag number is from 17 to 18"
      ],
      "metadata": {
        "id": "2XjiWNKP4B5g"
      },
      "execution_count": null,
      "outputs": []
    },
    {
      "cell_type": "code",
      "source": [
        "# OpenAI. GPT-4o. Uzvedne: sākumā notiek datu izgūšana no xml, notiek datu apstrāde, tad datu saglabāšana csv failos, kas tiek izmantots modeļa apmācīšanai un testēšanai. teikumā var būt viens vai vairāki explicit aspekti, implicit aspekti jeb NULL tiek ignorēti un atzīmēti ar O marķieri. kā papildināt kodu tā, lai tiktu arī dota informācija, kuri vārdi ir aspekti, kuriem ir jānosaka noskaņojums, un šī informācija tiks iedota modeļa apmācīšanā un modeļa pārbaudīšanā? https://chatgpt.com/ [izmantots 2025-04-15]\n",
        "# Sentence class\n",
        "class SentenceGetter(object):\n",
        "\n",
        "    def __init__(self, data):\n",
        "        self.n_sent = 1\n",
        "        self.data = data\n",
        "        self.empty = False\n",
        "        agg_func = lambda s: [(w, t) for w, t in zip(s[\"Word\"].values.tolist(),\n",
        "#                                                            s[\"POS\"].values.tolist(),\n",
        "                                                           s[\"Tag\"].values.tolist())]\n",
        "        self.grouped = self.data.groupby(\"Sentence #\").apply(agg_func)\n",
        "        self.sentences = [s for s in self.grouped]\n",
        "\n",
        "    def get_next(self):\n",
        "        try:\n",
        "            s = self.grouped[\"Sentence: {}\".format(self.n_sent)]\n",
        "            self.n_sent += 1\n",
        "            return s\n",
        "        except:\n",
        "            return None\n",
        "\n",
        "getter = SentenceGetter(data)\n",
        "sentences = getter.sentences # get all sentences\n",
        "\n",
        "# Word2inx & Padding for X\n",
        "X = [[word2idx[w[0]] for w in s] for s in sentences]\n",
        "X_train = pad_sequences(maxlen=max_len, sequences=X, padding=\"post\", value=0)\n",
        "\n",
        "# Word2inx & Padding for y\n",
        "y = [[tag2idx[w[1]] for w in s] for s in sentences]\n",
        "y = pad_sequences(maxlen=max_len, sequences=y, padding=\"post\", value=0)\n",
        "\n",
        "# Get one-hot labels\n",
        "y_train = [to_categorical(i, num_classes=n_tags) for i in y]\n",
        "\n",
        "mask = data.groupby(\"Sentence #\")[\"AspectMask\"].apply(list).values\n",
        "X_mask = pad_sequences(maxlen=max_len, sequences=mask, padding=\"post\", value=0)\n",
        "X_mask = np.array(X_mask)\n",
        "\n",
        "print(tag2idx)\n",
        "print(len(X_train))\n",
        "print(len(y_train))"
      ],
      "metadata": {
        "id": "-yTRo9-44DEi",
        "colab": {
          "base_uri": "https://localhost:8080/"
        },
        "outputId": "c8691537-93e8-4054-df90-2c65b5e01fb2"
      },
      "execution_count": null,
      "outputs": [
        {
          "output_type": "stream",
          "name": "stdout",
          "text": [
            "{'NEG': 1, 'POS': 2, 'NEU': 3, 'O': 4, '<pad>': 0}\n",
            "2000\n",
            "2000\n"
          ]
        },
        {
          "output_type": "stream",
          "name": "stderr",
          "text": [
            "<ipython-input-26-3b146fa73652>:12: DeprecationWarning: DataFrameGroupBy.apply operated on the grouping columns. This behavior is deprecated, and in a future version of pandas the grouping columns will be excluded from the operation. Either pass `include_groups=False` to exclude the groupings or explicitly select the grouping columns after groupby to silence this warning.\n",
            "  self.grouped = self.data.groupby(\"Sentence #\").apply(agg_func)\n"
          ]
        }
      ]
    },
    {
      "cell_type": "code",
      "source": [
        "# OpenAI. ChatGPT o3-mini-high. Uzvedne: kā var ieviest manā kodā klašu svarus? https://chatgpt.com/ [izmantots 2025-03-26]\n",
        "y_train = np.array(y_train)\n",
        "y_train_int = np.argmax(y_train, axis=-1)\n",
        "\n",
        "class_weight_dict_idx = {\n",
        "    tag2idx['O']: 1.0,\n",
        "    tag2idx['NEG']: 15.0,\n",
        "    tag2idx['NEU']: 17.0,\n",
        "    tag2idx['POS']: 7.0\n",
        "}\n",
        "print(tag2idx)\n",
        "\n",
        "import numpy as np\n",
        "sample_weight = np.ones((y_train_int.shape[0], y_train_int.shape[1]), dtype='float32')\n",
        "for i in range(y_train_int.shape[0]):\n",
        "    for j in range(y_train_int.shape[1]):\n",
        "        cls_idx = y_train_int[i,j]\n",
        "        if cls_idx in class_weight_dict_idx:\n",
        "            sample_weight[i,j] = class_weight_dict_idx[cls_idx]\n",
        "        else:\n",
        "            sample_weight[i,j] = 0.0"
      ],
      "metadata": {
        "id": "XMJpRPEe4FFu",
        "colab": {
          "base_uri": "https://localhost:8080/"
        },
        "outputId": "739151d4-a8cd-4236-9469-2dd8d7ca6fb1"
      },
      "execution_count": null,
      "outputs": [
        {
          "output_type": "stream",
          "name": "stdout",
          "text": [
            "{'NEG': 1, 'POS': 2, 'NEU': 3, 'O': 4, '<pad>': 0}\n"
          ]
        }
      ]
    },
    {
      "cell_type": "code",
      "source": [
        "# OpenAI. GPT-4o. Uzvedne: sākumā notiek datu izgūšana no xml, notiek datu apstrāde, tad datu saglabāšana csv failos, kas tiek izmantots modeļa apmācīšanai un testēšanai. teikumā var būt viens vai vairāki explicit aspekti, implicit aspekti jeb NULL tiek ignorēti un atzīmēti ar O marķieri. kā papildināt kodu tā, lai tiktu arī dota informācija, kuri vārdi ir aspekti, kuriem ir jānosaka noskaņojums, un šī informācija tiks iedota modeļa apmācīšanā un modeļa pārbaudīšanā? https://chatgpt.com/ [izmantots 2025-04-15]\n",
        "from tensorflow.keras.layers import Concatenate\n",
        "input_words = Input(shape=(max_len,))\n",
        "input_mask = Input(shape=(max_len,))\n",
        "\n",
        "word_emb = Embedding(input_dim=len(word2idx) + 1, output_dim=100, input_length=max_len, mask_zero=False)(input_words)\n",
        "mask_emb = Embedding(input_dim=2, output_dim=10, input_length=max_len, mask_zero=False)(input_mask)  # 2 iespējamās vērtības – 0 vai 1\n",
        "\n",
        "merged = Concatenate()([word_emb, mask_emb])  # (None, max_len, 210)\n",
        "lstm = LSTM(units=128, return_sequences=True)(merged)\n",
        "# lstm = Bidirectional(LSTM(units=128, return_sequences=True))(merged)\n",
        "dropout = Dropout(0.3)(lstm)\n",
        "output = TimeDistributed(Dense(n_tags, activation=\"softmax\"))(dropout)\n",
        "\n",
        "model = Model(inputs=[input_words, input_mask], outputs=output)\n",
        "model.compile(optimizer=\"adam\",\n",
        "              loss=\"categorical_crossentropy\",\n",
        "              metrics=[\"accuracy\"], run_eagerly=True)\n",
        "model.summary()\n"
      ],
      "metadata": {
        "id": "SPrS-26m4HMz",
        "colab": {
          "base_uri": "https://localhost:8080/",
          "height": 536
        },
        "outputId": "e1e31d52-a503-489f-b2db-899d49a06b7c"
      },
      "execution_count": null,
      "outputs": [
        {
          "output_type": "stream",
          "name": "stderr",
          "text": [
            "/usr/local/lib/python3.11/dist-packages/keras/src/layers/core/embedding.py:90: UserWarning: Argument `input_length` is deprecated. Just remove it.\n",
            "  warnings.warn(\n"
          ]
        },
        {
          "output_type": "display_data",
          "data": {
            "text/plain": [
              "\u001b[1mModel: \"functional_2\"\u001b[0m\n"
            ],
            "text/html": [
              "<pre style=\"white-space:pre;overflow-x:auto;line-height:normal;font-family:Menlo,'DejaVu Sans Mono',consolas,'Courier New',monospace\"><span style=\"font-weight: bold\">Model: \"functional_2\"</span>\n",
              "</pre>\n"
            ]
          },
          "metadata": {}
        },
        {
          "output_type": "display_data",
          "data": {
            "text/plain": [
              "┏━━━━━━━━━━━━━━━━━━━━━┳━━━━━━━━━━━━━━━━━━━┳━━━━━━━━━━━━┳━━━━━━━━━━━━━━━━━━━┓\n",
              "┃\u001b[1m \u001b[0m\u001b[1mLayer (type)       \u001b[0m\u001b[1m \u001b[0m┃\u001b[1m \u001b[0m\u001b[1mOutput Shape     \u001b[0m\u001b[1m \u001b[0m┃\u001b[1m \u001b[0m\u001b[1m   Param #\u001b[0m\u001b[1m \u001b[0m┃\u001b[1m \u001b[0m\u001b[1mConnected to     \u001b[0m\u001b[1m \u001b[0m┃\n",
              "┡━━━━━━━━━━━━━━━━━━━━━╇━━━━━━━━━━━━━━━━━━━╇━━━━━━━━━━━━╇━━━━━━━━━━━━━━━━━━━┩\n",
              "│ input_layer_4       │ (\u001b[38;5;45mNone\u001b[0m, \u001b[38;5;34m75\u001b[0m)        │          \u001b[38;5;34m0\u001b[0m │ -                 │\n",
              "│ (\u001b[38;5;33mInputLayer\u001b[0m)        │                   │            │                   │\n",
              "├─────────────────────┼───────────────────┼────────────┼───────────────────┤\n",
              "│ input_layer_5       │ (\u001b[38;5;45mNone\u001b[0m, \u001b[38;5;34m75\u001b[0m)        │          \u001b[38;5;34m0\u001b[0m │ -                 │\n",
              "│ (\u001b[38;5;33mInputLayer\u001b[0m)        │                   │            │                   │\n",
              "├─────────────────────┼───────────────────┼────────────┼───────────────────┤\n",
              "│ embedding_4         │ (\u001b[38;5;45mNone\u001b[0m, \u001b[38;5;34m75\u001b[0m, \u001b[38;5;34m100\u001b[0m)   │    \u001b[38;5;34m526,100\u001b[0m │ input_layer_4[\u001b[38;5;34m0\u001b[0m]… │\n",
              "│ (\u001b[38;5;33mEmbedding\u001b[0m)         │                   │            │                   │\n",
              "├─────────────────────┼───────────────────┼────────────┼───────────────────┤\n",
              "│ embedding_5         │ (\u001b[38;5;45mNone\u001b[0m, \u001b[38;5;34m75\u001b[0m, \u001b[38;5;34m10\u001b[0m)    │         \u001b[38;5;34m20\u001b[0m │ input_layer_5[\u001b[38;5;34m0\u001b[0m]… │\n",
              "│ (\u001b[38;5;33mEmbedding\u001b[0m)         │                   │            │                   │\n",
              "├─────────────────────┼───────────────────┼────────────┼───────────────────┤\n",
              "│ concatenate_2       │ (\u001b[38;5;45mNone\u001b[0m, \u001b[38;5;34m75\u001b[0m, \u001b[38;5;34m110\u001b[0m)   │          \u001b[38;5;34m0\u001b[0m │ embedding_4[\u001b[38;5;34m0\u001b[0m][\u001b[38;5;34m0\u001b[0m… │\n",
              "│ (\u001b[38;5;33mConcatenate\u001b[0m)       │                   │            │ embedding_5[\u001b[38;5;34m0\u001b[0m][\u001b[38;5;34m0\u001b[0m] │\n",
              "├─────────────────────┼───────────────────┼────────────┼───────────────────┤\n",
              "│ lstm_2 (\u001b[38;5;33mLSTM\u001b[0m)       │ (\u001b[38;5;45mNone\u001b[0m, \u001b[38;5;34m75\u001b[0m, \u001b[38;5;34m128\u001b[0m)   │    \u001b[38;5;34m122,368\u001b[0m │ concatenate_2[\u001b[38;5;34m0\u001b[0m]… │\n",
              "├─────────────────────┼───────────────────┼────────────┼───────────────────┤\n",
              "│ dropout_2 (\u001b[38;5;33mDropout\u001b[0m) │ (\u001b[38;5;45mNone\u001b[0m, \u001b[38;5;34m75\u001b[0m, \u001b[38;5;34m128\u001b[0m)   │          \u001b[38;5;34m0\u001b[0m │ lstm_2[\u001b[38;5;34m0\u001b[0m][\u001b[38;5;34m0\u001b[0m]      │\n",
              "├─────────────────────┼───────────────────┼────────────┼───────────────────┤\n",
              "│ time_distributed_2  │ (\u001b[38;5;45mNone\u001b[0m, \u001b[38;5;34m75\u001b[0m, \u001b[38;5;34m5\u001b[0m)     │        \u001b[38;5;34m645\u001b[0m │ dropout_2[\u001b[38;5;34m0\u001b[0m][\u001b[38;5;34m0\u001b[0m]   │\n",
              "│ (\u001b[38;5;33mTimeDistributed\u001b[0m)   │                   │            │                   │\n",
              "└─────────────────────┴───────────────────┴────────────┴───────────────────┘\n"
            ],
            "text/html": [
              "<pre style=\"white-space:pre;overflow-x:auto;line-height:normal;font-family:Menlo,'DejaVu Sans Mono',consolas,'Courier New',monospace\">┏━━━━━━━━━━━━━━━━━━━━━┳━━━━━━━━━━━━━━━━━━━┳━━━━━━━━━━━━┳━━━━━━━━━━━━━━━━━━━┓\n",
              "┃<span style=\"font-weight: bold\"> Layer (type)        </span>┃<span style=\"font-weight: bold\"> Output Shape      </span>┃<span style=\"font-weight: bold\">    Param # </span>┃<span style=\"font-weight: bold\"> Connected to      </span>┃\n",
              "┡━━━━━━━━━━━━━━━━━━━━━╇━━━━━━━━━━━━━━━━━━━╇━━━━━━━━━━━━╇━━━━━━━━━━━━━━━━━━━┩\n",
              "│ input_layer_4       │ (<span style=\"color: #00d7ff; text-decoration-color: #00d7ff\">None</span>, <span style=\"color: #00af00; text-decoration-color: #00af00\">75</span>)        │          <span style=\"color: #00af00; text-decoration-color: #00af00\">0</span> │ -                 │\n",
              "│ (<span style=\"color: #0087ff; text-decoration-color: #0087ff\">InputLayer</span>)        │                   │            │                   │\n",
              "├─────────────────────┼───────────────────┼────────────┼───────────────────┤\n",
              "│ input_layer_5       │ (<span style=\"color: #00d7ff; text-decoration-color: #00d7ff\">None</span>, <span style=\"color: #00af00; text-decoration-color: #00af00\">75</span>)        │          <span style=\"color: #00af00; text-decoration-color: #00af00\">0</span> │ -                 │\n",
              "│ (<span style=\"color: #0087ff; text-decoration-color: #0087ff\">InputLayer</span>)        │                   │            │                   │\n",
              "├─────────────────────┼───────────────────┼────────────┼───────────────────┤\n",
              "│ embedding_4         │ (<span style=\"color: #00d7ff; text-decoration-color: #00d7ff\">None</span>, <span style=\"color: #00af00; text-decoration-color: #00af00\">75</span>, <span style=\"color: #00af00; text-decoration-color: #00af00\">100</span>)   │    <span style=\"color: #00af00; text-decoration-color: #00af00\">526,100</span> │ input_layer_4[<span style=\"color: #00af00; text-decoration-color: #00af00\">0</span>]… │\n",
              "│ (<span style=\"color: #0087ff; text-decoration-color: #0087ff\">Embedding</span>)         │                   │            │                   │\n",
              "├─────────────────────┼───────────────────┼────────────┼───────────────────┤\n",
              "│ embedding_5         │ (<span style=\"color: #00d7ff; text-decoration-color: #00d7ff\">None</span>, <span style=\"color: #00af00; text-decoration-color: #00af00\">75</span>, <span style=\"color: #00af00; text-decoration-color: #00af00\">10</span>)    │         <span style=\"color: #00af00; text-decoration-color: #00af00\">20</span> │ input_layer_5[<span style=\"color: #00af00; text-decoration-color: #00af00\">0</span>]… │\n",
              "│ (<span style=\"color: #0087ff; text-decoration-color: #0087ff\">Embedding</span>)         │                   │            │                   │\n",
              "├─────────────────────┼───────────────────┼────────────┼───────────────────┤\n",
              "│ concatenate_2       │ (<span style=\"color: #00d7ff; text-decoration-color: #00d7ff\">None</span>, <span style=\"color: #00af00; text-decoration-color: #00af00\">75</span>, <span style=\"color: #00af00; text-decoration-color: #00af00\">110</span>)   │          <span style=\"color: #00af00; text-decoration-color: #00af00\">0</span> │ embedding_4[<span style=\"color: #00af00; text-decoration-color: #00af00\">0</span>][<span style=\"color: #00af00; text-decoration-color: #00af00\">0</span>… │\n",
              "│ (<span style=\"color: #0087ff; text-decoration-color: #0087ff\">Concatenate</span>)       │                   │            │ embedding_5[<span style=\"color: #00af00; text-decoration-color: #00af00\">0</span>][<span style=\"color: #00af00; text-decoration-color: #00af00\">0</span>] │\n",
              "├─────────────────────┼───────────────────┼────────────┼───────────────────┤\n",
              "│ lstm_2 (<span style=\"color: #0087ff; text-decoration-color: #0087ff\">LSTM</span>)       │ (<span style=\"color: #00d7ff; text-decoration-color: #00d7ff\">None</span>, <span style=\"color: #00af00; text-decoration-color: #00af00\">75</span>, <span style=\"color: #00af00; text-decoration-color: #00af00\">128</span>)   │    <span style=\"color: #00af00; text-decoration-color: #00af00\">122,368</span> │ concatenate_2[<span style=\"color: #00af00; text-decoration-color: #00af00\">0</span>]… │\n",
              "├─────────────────────┼───────────────────┼────────────┼───────────────────┤\n",
              "│ dropout_2 (<span style=\"color: #0087ff; text-decoration-color: #0087ff\">Dropout</span>) │ (<span style=\"color: #00d7ff; text-decoration-color: #00d7ff\">None</span>, <span style=\"color: #00af00; text-decoration-color: #00af00\">75</span>, <span style=\"color: #00af00; text-decoration-color: #00af00\">128</span>)   │          <span style=\"color: #00af00; text-decoration-color: #00af00\">0</span> │ lstm_2[<span style=\"color: #00af00; text-decoration-color: #00af00\">0</span>][<span style=\"color: #00af00; text-decoration-color: #00af00\">0</span>]      │\n",
              "├─────────────────────┼───────────────────┼────────────┼───────────────────┤\n",
              "│ time_distributed_2  │ (<span style=\"color: #00d7ff; text-decoration-color: #00d7ff\">None</span>, <span style=\"color: #00af00; text-decoration-color: #00af00\">75</span>, <span style=\"color: #00af00; text-decoration-color: #00af00\">5</span>)     │        <span style=\"color: #00af00; text-decoration-color: #00af00\">645</span> │ dropout_2[<span style=\"color: #00af00; text-decoration-color: #00af00\">0</span>][<span style=\"color: #00af00; text-decoration-color: #00af00\">0</span>]   │\n",
              "│ (<span style=\"color: #0087ff; text-decoration-color: #0087ff\">TimeDistributed</span>)   │                   │            │                   │\n",
              "└─────────────────────┴───────────────────┴────────────┴───────────────────┘\n",
              "</pre>\n"
            ]
          },
          "metadata": {}
        },
        {
          "output_type": "display_data",
          "data": {
            "text/plain": [
              "\u001b[1m Total params: \u001b[0m\u001b[38;5;34m649,133\u001b[0m (2.48 MB)\n"
            ],
            "text/html": [
              "<pre style=\"white-space:pre;overflow-x:auto;line-height:normal;font-family:Menlo,'DejaVu Sans Mono',consolas,'Courier New',monospace\"><span style=\"font-weight: bold\"> Total params: </span><span style=\"color: #00af00; text-decoration-color: #00af00\">649,133</span> (2.48 MB)\n",
              "</pre>\n"
            ]
          },
          "metadata": {}
        },
        {
          "output_type": "display_data",
          "data": {
            "text/plain": [
              "\u001b[1m Trainable params: \u001b[0m\u001b[38;5;34m649,133\u001b[0m (2.48 MB)\n"
            ],
            "text/html": [
              "<pre style=\"white-space:pre;overflow-x:auto;line-height:normal;font-family:Menlo,'DejaVu Sans Mono',consolas,'Courier New',monospace\"><span style=\"font-weight: bold\"> Trainable params: </span><span style=\"color: #00af00; text-decoration-color: #00af00\">649,133</span> (2.48 MB)\n",
              "</pre>\n"
            ]
          },
          "metadata": {}
        },
        {
          "output_type": "display_data",
          "data": {
            "text/plain": [
              "\u001b[1m Non-trainable params: \u001b[0m\u001b[38;5;34m0\u001b[0m (0.00 B)\n"
            ],
            "text/html": [
              "<pre style=\"white-space:pre;overflow-x:auto;line-height:normal;font-family:Menlo,'DejaVu Sans Mono',consolas,'Courier New',monospace\"><span style=\"font-weight: bold\"> Non-trainable params: </span><span style=\"color: #00af00; text-decoration-color: #00af00\">0</span> (0.00 B)\n",
              "</pre>\n"
            ]
          },
          "metadata": {}
        }
      ]
    },
    {
      "cell_type": "code",
      "source": [
        "history = model.fit([X_train, X_mask], np.array(y_train), batch_size=64, epochs=12,\n",
        "                    validation_split=0.1, sample_weight=sample_weight, verbose=1)\n",
        "hist = pd.DataFrame(history.history)\n",
        "import matplotlib.pyplot as plt\n",
        "%matplotlib inline\n",
        "plt.style.use(\"ggplot\")\n",
        "plt.figure(figsize=(12,12))\n",
        "plt.plot(hist[\"loss\"])\n",
        "plt.plot(hist[\"val_loss\"])\n",
        "plt.show()"
      ],
      "metadata": {
        "id": "SRtD_7KU4JIl",
        "colab": {
          "base_uri": "https://localhost:8080/",
          "height": 1000
        },
        "outputId": "f53eaf83-e04b-49a6-95dc-155c6998bc8e"
      },
      "execution_count": null,
      "outputs": [
        {
          "output_type": "stream",
          "name": "stdout",
          "text": [
            "Epoch 1/12\n",
            "\u001b[1m29/29\u001b[0m \u001b[32m━━━━━━━━━━━━━━━━━━━━\u001b[0m\u001b[37m\u001b[0m \u001b[1m36s\u001b[0m 1s/step - accuracy: 0.1297 - loss: 0.4520 - val_accuracy: 0.1867 - val_loss: 0.4095\n",
            "Epoch 2/12\n",
            "\u001b[1m29/29\u001b[0m \u001b[32m━━━━━━━━━━━━━━━━━━━━\u001b[0m\u001b[37m\u001b[0m \u001b[1m41s\u001b[0m 1s/step - accuracy: 0.1505 - loss: 0.3113 - val_accuracy: 0.1924 - val_loss: 0.2867\n",
            "Epoch 3/12\n",
            "\u001b[1m29/29\u001b[0m \u001b[32m━━━━━━━━━━━━━━━━━━━━\u001b[0m\u001b[37m\u001b[0m \u001b[1m41s\u001b[0m 1s/step - accuracy: 0.1680 - loss: 0.1909 - val_accuracy: 0.1939 - val_loss: 0.2125\n",
            "Epoch 4/12\n",
            "\u001b[1m29/29\u001b[0m \u001b[32m━━━━━━━━━━━━━━━━━━━━\u001b[0m\u001b[37m\u001b[0m \u001b[1m42s\u001b[0m 1s/step - accuracy: 0.1656 - loss: 0.1392 - val_accuracy: 0.1942 - val_loss: 0.1910\n",
            "Epoch 5/12\n",
            "\u001b[1m29/29\u001b[0m \u001b[32m━━━━━━━━━━━━━━━━━━━━\u001b[0m\u001b[37m\u001b[0m \u001b[1m39s\u001b[0m 1s/step - accuracy: 0.1598 - loss: 0.1434 - val_accuracy: 0.1947 - val_loss: 0.2113\n",
            "Epoch 6/12\n",
            "\u001b[1m29/29\u001b[0m \u001b[32m━━━━━━━━━━━━━━━━━━━━\u001b[0m\u001b[37m\u001b[0m \u001b[1m42s\u001b[0m 1s/step - accuracy: 0.1640 - loss: 0.1007 - val_accuracy: 0.1953 - val_loss: 0.2107\n",
            "Epoch 7/12\n",
            "\u001b[1m29/29\u001b[0m \u001b[32m━━━━━━━━━━━━━━━━━━━━\u001b[0m\u001b[37m\u001b[0m \u001b[1m45s\u001b[0m 1s/step - accuracy: 0.1664 - loss: 0.0762 - val_accuracy: 0.1949 - val_loss: 0.2824\n",
            "Epoch 8/12\n",
            "\u001b[1m29/29\u001b[0m \u001b[32m━━━━━━━━━━━━━━━━━━━━\u001b[0m\u001b[37m\u001b[0m \u001b[1m36s\u001b[0m 1s/step - accuracy: 0.1665 - loss: 0.0597 - val_accuracy: 0.1949 - val_loss: 0.2236\n",
            "Epoch 9/12\n",
            "\u001b[1m29/29\u001b[0m \u001b[32m━━━━━━━━━━━━━━━━━━━━\u001b[0m\u001b[37m\u001b[0m \u001b[1m41s\u001b[0m 1s/step - accuracy: 0.1644 - loss: 0.0555 - val_accuracy: 0.1951 - val_loss: 0.3213\n",
            "Epoch 10/12\n",
            "\u001b[1m29/29\u001b[0m \u001b[32m━━━━━━━━━━━━━━━━━━━━\u001b[0m\u001b[37m\u001b[0m \u001b[1m41s\u001b[0m 1s/step - accuracy: 0.1688 - loss: 0.0421 - val_accuracy: 0.1945 - val_loss: 0.2848\n",
            "Epoch 11/12\n",
            "\u001b[1m29/29\u001b[0m \u001b[32m━━━━━━━━━━━━━━━━━━━━\u001b[0m\u001b[37m\u001b[0m \u001b[1m36s\u001b[0m 1s/step - accuracy: 0.1674 - loss: 0.0369 - val_accuracy: 0.1947 - val_loss: 0.2751\n",
            "Epoch 12/12\n",
            "\u001b[1m29/29\u001b[0m \u001b[32m━━━━━━━━━━━━━━━━━━━━\u001b[0m\u001b[37m\u001b[0m \u001b[1m36s\u001b[0m 1s/step - accuracy: 0.1676 - loss: 0.0337 - val_accuracy: 0.1955 - val_loss: 0.2959\n"
          ]
        },
        {
          "output_type": "display_data",
          "data": {
            "text/plain": [
              "<Figure size 1200x1200 with 1 Axes>"
            ],
            "image/png": "[encoded data removed]"
          },
          "metadata": {}
        }
      ]
    },
    {
      "cell_type": "markdown",
      "source": [
        "### LSTM UN BILSTM PĀRBAUDĪŠANA"
      ],
      "metadata": {
        "id": "_U2Rayj34Oh_"
      }
    },
    {
      "cell_type": "code",
      "source": [
        "# OpenAI. GPT-4o. Uzvedne: kā izmainīt koda daļu, kur notiek modeļa pārbaude, tā, lai tiktu arī izmantotas maskas? https://chatgpt.com/ [izmantots 2025-04-15]\n",
        "data = data_test\n",
        "getter = SentenceGetter(data)\n",
        "sentences = getter.sentences # get all sentences\n",
        "\n",
        "# Word2inx & Padding for X\n",
        "X = [[word2idx.get(w[0], 0) for w in s] for s in sentences]\n",
        "X_test = pad_sequences(maxlen=max_len, sequences=X, padding=\"post\", value=0)\n",
        "X_test = np.array(X_test)\n",
        "# Word2inx & Padding for y\n",
        "y = [[tag2idx[w[1]] for w in s] for s in sentences]\n",
        "y = pad_sequences(maxlen=max_len, sequences=y, padding=\"post\", value=tag2idx['<pad>'])\n",
        "\n",
        "# Get one-hot labels\n",
        "y_test = [to_categorical(i, num_classes=n_tags) for i in y]\n",
        "\n",
        "mask = data.groupby(\"Sentence #\")[\"AspectMask\"].apply(list).values\n",
        "X_mask_test = pad_sequences(maxlen=max_len, sequences=mask, padding=\"post\", value=0)\n",
        "X_mask_test = np.array(X_mask_test)"
      ],
      "metadata": {
        "id": "_gLGEU7F4MWr",
        "colab": {
          "base_uri": "https://localhost:8080/"
        },
        "outputId": "478d1f2c-ad71-475f-c403-3fe22f802593"
      },
      "execution_count": null,
      "outputs": [
        {
          "output_type": "stream",
          "name": "stderr",
          "text": [
            "<ipython-input-26-3b146fa73652>:12: DeprecationWarning: DataFrameGroupBy.apply operated on the grouping columns. This behavior is deprecated, and in a future version of pandas the grouping columns will be excluded from the operation. Either pass `include_groups=False` to exclude the groupings or explicitly select the grouping columns after groupby to silence this warning.\n",
            "  self.grouped = self.data.groupby(\"Sentence #\").apply(agg_func)\n"
          ]
        }
      ]
    },
    {
      "cell_type": "code",
      "source": [
        "print(sentences[1])\n",
        "print(X_test[1])\n",
        "print(np.argmax(y_test[1], -1))"
      ],
      "metadata": {
        "id": "RlQhmZPx4RbN",
        "colab": {
          "base_uri": "https://localhost:8080/"
        },
        "outputId": "c8b9bc21-a97d-43b4-cdf3-5b33715a5b73"
      },
      "execution_count": null,
      "outputs": [
        {
          "output_type": "stream",
          "name": "stdout",
          "text": [
            "[('ļoti', 'O'), ('draudzīgas', 'O'), ('cenas', 'O'), ('ēdieniem', 'POS'), ('un', 'O'), ('laba', 'O'), ('vietējā', 'O'), ('alus', 'POS'), ('izlase', 'POS'), ('.', 'O')]\n",
            "[ 609    0  782 1901  311 1253 4962 2231 3418 4480    0    0    0    0\n",
            "    0    0    0    0    0    0    0    0    0    0    0    0    0    0\n",
            "    0    0    0    0    0    0    0    0    0    0    0    0    0    0\n",
            "    0    0    0    0    0    0    0    0    0    0    0    0    0    0\n",
            "    0    0    0    0    0    0    0    0    0    0    0    0    0    0\n",
            "    0    0    0    0    0]\n",
            "[4 4 4 2 4 4 4 2 2 4 0 0 0 0 0 0 0 0 0 0 0 0 0 0 0 0 0 0 0 0 0 0 0 0 0 0 0\n",
            " 0 0 0 0 0 0 0 0 0 0 0 0 0 0 0 0 0 0 0 0 0 0 0 0 0 0 0 0 0 0 0 0 0 0 0 0 0\n",
            " 0]\n"
          ]
        }
      ]
    },
    {
      "cell_type": "code",
      "source": [
        "# Predictions.\n",
        "idx2word = {value: key for key, value in word2idx.items()}\n",
        "idx2tag = {value: key for key, value in tag2idx.items()}\n",
        "print(idx2tag)"
      ],
      "metadata": {
        "id": "Oo0Yo1KM4S0l",
        "colab": {
          "base_uri": "https://localhost:8080/"
        },
        "outputId": "d9bf5ba5-ca55-43ec-f871-3f6ead22dec5"
      },
      "execution_count": null,
      "outputs": [
        {
          "output_type": "stream",
          "name": "stdout",
          "text": [
            "{1: 'NEG', 2: 'POS', 3: 'NEU', 4: 'O', 0: '<pad>'}\n"
          ]
        }
      ]
    },
    {
      "cell_type": "code",
      "source": [
        "true_all = np.argmax(y_test, -1)\n",
        "true_all_tags = [[idx2tag[idx] for idx in s if idx!=0] for s in true_all]\n",
        "\n",
        "p_all = model.predict([X_test, X_mask_test]) # (4796, 75, 18)\n",
        "p_all= np.argmax(p_all, axis=-1) # (4796, 75)\n",
        "p_all_tags = [[idx2tag[idx] for idx in s] for s in p_all] # ['B-gpe', 'O', 'O', 'O']\n",
        "\n",
        "for i, true in enumerate(true_all_tags):\n",
        "    length = len(true)\n",
        "    p_all_tags[i] = p_all_tags[i][:length]\n",
        "\n",
        "p_all_tags = [[x.replace('<pad>', 'O') for x in s] for s in p_all_tags]\n",
        "\n",
        "print(sentences[3])\n",
        "print(X_test[3])\n",
        "print(true_all_tags[3])\n",
        "print(p_all_tags[3])"
      ],
      "metadata": {
        "id": "xwb5k12O4ULF",
        "colab": {
          "base_uri": "https://localhost:8080/"
        },
        "outputId": "e22e10fa-cbea-4471-b96a-68cb84c713a6"
      },
      "execution_count": null,
      "outputs": [
        {
          "output_type": "stream",
          "name": "stdout",
          "text": [
            "\u001b[1m21/21\u001b[0m \u001b[32m━━━━━━━━━━━━━━━━━━━━\u001b[0m\u001b[37m\u001b[0m \u001b[1m11s\u001b[0m 508ms/step\n",
            "[('perfekta', 'O'), ('apkalpošana', 'POS'), (',', 'O'), ('prot', 'O'), ('ieteikt', 'O'), ('lieliskus', 'O'), ('ēdienus', 'O'), ('.', 'O')]\n",
            "[4745 2129 1837    0 2853    0 4011 4480    0    0    0    0    0    0\n",
            "    0    0    0    0    0    0    0    0    0    0    0    0    0    0\n",
            "    0    0    0    0    0    0    0    0    0    0    0    0    0    0\n",
            "    0    0    0    0    0    0    0    0    0    0    0    0    0    0\n",
            "    0    0    0    0    0    0    0    0    0    0    0    0    0    0\n",
            "    0    0    0    0    0]\n",
            "['O', 'POS', 'O', 'O', 'O', 'O', 'O', 'O']\n",
            "['O', 'POS', 'O', 'O', 'O', 'O', 'O', 'O']\n"
          ]
        }
      ]
    },
    {
      "cell_type": "code",
      "source": [
        "# OpenAI. ChatGPT o3-mini-high. Uzvedne: kā man izlabot kļūdu ValueError: max() arg is an empty sequence šajā koda daļā? https://chatgpt.com/ [izmantots 2025-03-26]\n",
        "# OpenAI. ChatGPT o3-mini-high. Uzvedne: šo kodu es izmantoju modeļa apmācīšanai ar datu kopu, kas ir paredzēta noskaņojumu noteikšanai aspektiem.\n",
        "# CSV faili sastāv no teikuma numura, vārda un marķiera, kas apzīmē šī vārda noskaņojumu (2 - pozitīvs, 1 - neitrāls, 0 - negatīvs, O - nav noskaņojuma) https://chatgpt.com/ [izmantots 2025-03-26]\n",
        "from sklearn.metrics import classification_report\n",
        "\n",
        "true_flat = []\n",
        "pred_flat = []\n",
        "for i in range(len(true_all_tags)):\n",
        "    true_flat.extend(true_all_tags[i])\n",
        "    pred_flat.extend(p_all_tags[i])\n",
        "\n",
        "print(classification_report(true_flat, pred_flat, labels=[\"NEG\",\"NEU\",\"POS\",\"O\"]))\n"
      ],
      "metadata": {
        "id": "l6BpNo4R4VT1",
        "colab": {
          "base_uri": "https://localhost:8080/"
        },
        "outputId": "3147a71c-8ecb-4f36-9482-9ef1ec2342a5"
      },
      "execution_count": null,
      "outputs": [
        {
          "output_type": "stream",
          "name": "stdout",
          "text": [
            "              precision    recall  f1-score   support\n",
            "\n",
            "         NEG       0.49      0.45      0.47       218\n",
            "         NEU       0.20      0.02      0.03        57\n",
            "         POS       0.67      0.79      0.73       415\n",
            "           O       1.00      1.00      1.00      6584\n",
            "\n",
            "    accuracy                           0.96      7274\n",
            "   macro avg       0.59      0.56      0.56      7274\n",
            "weighted avg       0.96      0.96      0.96      7274\n",
            "\n"
          ]
        }
      ]
    }
  ]
}